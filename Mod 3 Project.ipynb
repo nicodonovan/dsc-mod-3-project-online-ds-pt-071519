{
 "cells": [
  {
   "cell_type": "markdown",
   "metadata": {},
   "source": [
    "<h1>Mod 3 Final Project </h1>"
   ]
  },
  {
   "cell_type": "markdown",
   "metadata": {},
   "source": [
    "<p> Student name: Nicholas Donovan <br>\n",
    "Student pace: Part-Time <br>\n",
    "Scheduled project review date/time: 11/27/19 12:30pm <br>\n",
    "Instructor name: Abhineet Kulkarni <br>\n",
    "Blog post URL:  https://medium.com/@nicodonovan/hypothesis-testing-50d180a935a9?sk=2d028669a57634d33b4d7e8b612b7224 <br>\n",
    "Video Walkthrough URL: </p>"
   ]
  },
  {
   "cell_type": "markdown",
   "metadata": {},
   "source": [
    "We will be using hypothesis testing and statistical analysis techniques to explore the following questions for Northwind companies. "
   ]
  },
  {
   "cell_type": "markdown",
   "metadata": {},
   "source": [
    "> 1. Does discount amount have a statistically significant effect on the quantity of a product in an order? If so, at what level(s) of discount?\n",
    "> 2. Does the region from which an employee is based have an effect on quantities ordered?\n",
    "> 3. Do orders without meat/poultry have a higher revenue than orders with meat/poultry?\n",
    "> 4. Does shipping from the same region as the supplier have an effect on freight? "
   ]
  },
  {
   "cell_type": "code",
   "execution_count": 43,
   "metadata": {},
   "outputs": [],
   "source": [
    "# SQL tools\n",
    "import sqlite3 \n",
    "\n",
    "# Exploratory Data Analysis (EDA)\n",
    "import pandas as pd\n",
    "import numpy as np\n",
    "\n",
    "# data visualization\n",
    "import matplotlib.pyplot as plt\n",
    "import seaborn as sns\n",
    "%matplotlib inline\n",
    "\n",
    "# hypothesis testing\n",
    "from scipy import stats\n",
    "import itertools\n",
    "import statsmodels.api as sm\n",
    "from statsmodels.formula.api import ols\n",
    "from statsmodels.stats.power import TTestIndPower, TTestPower"
   ]
  },
  {
   "cell_type": "code",
   "execution_count": 104,
   "metadata": {},
   "outputs": [],
   "source": [
    "# functions\n",
    "\n",
    "def welch_t(a, b, two_sided=False):\n",
    "    # t-statistic\n",
    "    t = np.abs((a.mean() - b.mean())/np.sqrt(a.var(ddof=1)/a.size + b.var(ddof=1)/b.size))\n",
    "    # degrees of freedom\n",
    "    s1 = a.var(ddof=1)\n",
    "    s2 = b.var(ddof=1)\n",
    "    n1 = a.size\n",
    "    n2 = b.size\n",
    "    df = ((s1/n1 + s2/n2)**2) / ((s1/ n1)**2/(n1 - 1) + (s2/ n2)**2/(n2 - 1))\n",
    "    # p-value\n",
    "    p = 1-stats.t.cdf(t, df)\n",
    "    \n",
    "    print(\"T-statistic:\", t)\n",
    "    print(\"Degrees of Freedom:\", df)\n",
    "    \n",
    "    if two_sided:\n",
    "        print(\"P-value:\", 2*p) \n",
    "    else: \n",
    "        print(\"P-value:\", p)\n",
    "    \n",
    "    if p < 0.05:\n",
    "        print(\"Decision: Reject Null Hypothesis\")\n",
    "    else:\n",
    "        print(\"Decision: Fail to Reject Null Hypothesis\")\n",
    "\n",
    "\n",
    "def Cohen_d(group1, group2):\n",
    "\n",
    "    diff = group1.mean() - group2.mean()\n",
    "\n",
    "    n1, n2 = len(group1), len(group2)\n",
    "    var1 = group1.var()\n",
    "    var2 = group2.var()\n",
    "\n",
    "    pooled_var = (n1 * var1 + n2 * var2) / (n1 + n2)\n",
    "    \n",
    "    # Calculate Cohen's d statistic\n",
    "    d = diff / np.sqrt(pooled_var)\n",
    "    \n",
    "    return d"
   ]
  },
  {
   "attachments": {},
   "cell_type": "markdown",
   "metadata": {},
   "source": [
    "![title](Northwind_ERD_updated.png)"
   ]
  },
  {
   "cell_type": "code",
   "execution_count": 9,
   "metadata": {},
   "outputs": [],
   "source": [
    "conn = sqlite3.Connection('Northwind_small.sqlite')\n",
    "cur = conn.cursor()"
   ]
  },
  {
   "cell_type": "markdown",
   "metadata": {},
   "source": [
    "<h2> 1. Does discount amount have a statistically significant effect on the quantity of a product in an order? If so, at what level(s) of discount? </h2>"
   ]
  },
  {
   "cell_type": "markdown",
   "metadata": {},
   "source": [
    "> **Control**: Orders without a discount\n",
    ">\n",
    "> **Treatment**: Orders with a discount\n",
    ">> $H_{0}:$ Discounts do not have an effect on the quantity of a product in an order. $\\mu_0  = \\mu_1 $\n",
    ">\n",
    ">> $H_{1}:$ Discounts have an effect on the quantity of a product in an order. $\\mu_0 \\neq \\mu_1 $\n",
    ">\n",
    "> Significance Level: $\\alpha = 0.05$ (Probability of a Type I error)"
   ]
  },
  {
   "cell_type": "markdown",
   "metadata": {},
   "source": [
    "Based on the schema above, all of the necessary data is contained within the OrderDetail table. In particular, we will be focusing on quantity ordered and discount given. Our control group will be quantities of orders without a discount, while the treatment group with the quantities of orders with a discount."
   ]
  },
  {
   "cell_type": "code",
   "execution_count": 145,
   "metadata": {},
   "outputs": [
    {
     "name": "stdout",
     "output_type": "stream",
     "text": [
      "<class 'pandas.core.frame.DataFrame'>\n",
      "RangeIndex: 838 entries, 0 to 837\n",
      "Data columns (total 2 columns):\n",
      "Quantity    838 non-null int64\n",
      "Discount    838 non-null float64\n",
      "dtypes: float64(1), int64(1)\n",
      "memory usage: 13.2 KB\n"
     ]
    },
    {
     "data": {
      "text/html": [
       "<div>\n",
       "<style scoped>\n",
       "    .dataframe tbody tr th:only-of-type {\n",
       "        vertical-align: middle;\n",
       "    }\n",
       "\n",
       "    .dataframe tbody tr th {\n",
       "        vertical-align: top;\n",
       "    }\n",
       "\n",
       "    .dataframe thead th {\n",
       "        text-align: right;\n",
       "    }\n",
       "</style>\n",
       "<table border=\"1\" class=\"dataframe\">\n",
       "  <thead>\n",
       "    <tr style=\"text-align: right;\">\n",
       "      <th></th>\n",
       "      <th>Quantity</th>\n",
       "      <th>Discount</th>\n",
       "    </tr>\n",
       "  </thead>\n",
       "  <tbody>\n",
       "    <tr>\n",
       "      <th>count</th>\n",
       "      <td>838.000000</td>\n",
       "      <td>838.000000</td>\n",
       "    </tr>\n",
       "    <tr>\n",
       "      <th>mean</th>\n",
       "      <td>27.109785</td>\n",
       "      <td>0.144439</td>\n",
       "    </tr>\n",
       "    <tr>\n",
       "      <th>std</th>\n",
       "      <td>20.771439</td>\n",
       "      <td>0.071808</td>\n",
       "    </tr>\n",
       "    <tr>\n",
       "      <th>min</th>\n",
       "      <td>1.000000</td>\n",
       "      <td>0.010000</td>\n",
       "    </tr>\n",
       "    <tr>\n",
       "      <th>25%</th>\n",
       "      <td>12.000000</td>\n",
       "      <td>0.100000</td>\n",
       "    </tr>\n",
       "    <tr>\n",
       "      <th>50%</th>\n",
       "      <td>20.000000</td>\n",
       "      <td>0.150000</td>\n",
       "    </tr>\n",
       "    <tr>\n",
       "      <th>75%</th>\n",
       "      <td>36.000000</td>\n",
       "      <td>0.200000</td>\n",
       "    </tr>\n",
       "    <tr>\n",
       "      <th>max</th>\n",
       "      <td>130.000000</td>\n",
       "      <td>0.250000</td>\n",
       "    </tr>\n",
       "  </tbody>\n",
       "</table>\n",
       "</div>"
      ],
      "text/plain": [
       "         Quantity    Discount\n",
       "count  838.000000  838.000000\n",
       "mean    27.109785    0.144439\n",
       "std     20.771439    0.071808\n",
       "min      1.000000    0.010000\n",
       "25%     12.000000    0.100000\n",
       "50%     20.000000    0.150000\n",
       "75%     36.000000    0.200000\n",
       "max    130.000000    0.250000"
      ]
     },
     "execution_count": 145,
     "metadata": {},
     "output_type": "execute_result"
    }
   ],
   "source": [
    "#  Treatment (orders with a discount)\n",
    "cur.execute('''SELECT Quantity, Discount FROM OrderDetail WHERE Discount >0;''')\n",
    "treatment1 = pd.DataFrame(cur.fetchall())\n",
    "treatment1.columns = [x[0] for x in cur.description]\n",
    "treatment1.info() # checks for correct data type and any null values\n",
    "treatment1.describe() # overview of the data"
   ]
  },
  {
   "cell_type": "code",
   "execution_count": 146,
   "metadata": {
    "scrolled": false
   },
   "outputs": [
    {
     "name": "stdout",
     "output_type": "stream",
     "text": [
      "<class 'pandas.core.frame.DataFrame'>\n",
      "RangeIndex: 1317 entries, 0 to 1316\n",
      "Data columns (total 2 columns):\n",
      "Quantity    1317 non-null int64\n",
      "Discount    1317 non-null float64\n",
      "dtypes: float64(1), int64(1)\n",
      "memory usage: 20.7 KB\n"
     ]
    },
    {
     "data": {
      "text/html": [
       "<div>\n",
       "<style scoped>\n",
       "    .dataframe tbody tr th:only-of-type {\n",
       "        vertical-align: middle;\n",
       "    }\n",
       "\n",
       "    .dataframe tbody tr th {\n",
       "        vertical-align: top;\n",
       "    }\n",
       "\n",
       "    .dataframe thead th {\n",
       "        text-align: right;\n",
       "    }\n",
       "</style>\n",
       "<table border=\"1\" class=\"dataframe\">\n",
       "  <thead>\n",
       "    <tr style=\"text-align: right;\">\n",
       "      <th></th>\n",
       "      <th>Quantity</th>\n",
       "      <th>Discount</th>\n",
       "    </tr>\n",
       "  </thead>\n",
       "  <tbody>\n",
       "    <tr>\n",
       "      <th>count</th>\n",
       "      <td>1317.000000</td>\n",
       "      <td>1317.0</td>\n",
       "    </tr>\n",
       "    <tr>\n",
       "      <th>mean</th>\n",
       "      <td>21.715262</td>\n",
       "      <td>0.0</td>\n",
       "    </tr>\n",
       "    <tr>\n",
       "      <th>std</th>\n",
       "      <td>17.507493</td>\n",
       "      <td>0.0</td>\n",
       "    </tr>\n",
       "    <tr>\n",
       "      <th>min</th>\n",
       "      <td>1.000000</td>\n",
       "      <td>0.0</td>\n",
       "    </tr>\n",
       "    <tr>\n",
       "      <th>25%</th>\n",
       "      <td>10.000000</td>\n",
       "      <td>0.0</td>\n",
       "    </tr>\n",
       "    <tr>\n",
       "      <th>50%</th>\n",
       "      <td>18.000000</td>\n",
       "      <td>0.0</td>\n",
       "    </tr>\n",
       "    <tr>\n",
       "      <th>75%</th>\n",
       "      <td>30.000000</td>\n",
       "      <td>0.0</td>\n",
       "    </tr>\n",
       "    <tr>\n",
       "      <th>max</th>\n",
       "      <td>130.000000</td>\n",
       "      <td>0.0</td>\n",
       "    </tr>\n",
       "  </tbody>\n",
       "</table>\n",
       "</div>"
      ],
      "text/plain": [
       "          Quantity  Discount\n",
       "count  1317.000000    1317.0\n",
       "mean     21.715262       0.0\n",
       "std      17.507493       0.0\n",
       "min       1.000000       0.0\n",
       "25%      10.000000       0.0\n",
       "50%      18.000000       0.0\n",
       "75%      30.000000       0.0\n",
       "max     130.000000       0.0"
      ]
     },
     "execution_count": 146,
     "metadata": {},
     "output_type": "execute_result"
    }
   ],
   "source": [
    "# Control (orders without a discount)\n",
    "cur.execute('''SELECT Quantity, Discount FROM OrderDetail WHERE Discount == 0;''')\n",
    "control1 = pd.DataFrame(cur.fetchall())\n",
    "control1.columns = [x[0] for x in cur.description]\n",
    "control1.info() # checks for correct data type and any null values\n",
    "control1.describe() # overview of the data"
   ]
  },
  {
   "cell_type": "markdown",
   "metadata": {},
   "source": [
    "Based on the initial data exploration, we can see that Northwind currently offers discounts between 1 and 25%. Fortunately there are no missing data and they all have the correct data types. We can proceed to data visualization.\n"
   ]
  },
  {
   "cell_type": "code",
   "execution_count": 147,
   "metadata": {},
   "outputs": [
    {
     "name": "stderr",
     "output_type": "stream",
     "text": [
      "/anaconda3/envs/learn-env/lib/python3.6/site-packages/scipy/stats/stats.py:1713: FutureWarning: Using a non-tuple sequence for multidimensional indexing is deprecated; use `arr[tuple(seq)]` instead of `arr[seq]`. In the future this will be interpreted as an array index, `arr[np.array(seq)]`, which will result either in an error or a different result.\n",
      "  return np.add.reduce(sorted[indexer] * weights, axis=axis) / sumval\n"
     ]
    },
    {
     "data": {
      "text/plain": [
       "<matplotlib.legend.Legend at 0x1c179fb390>"
      ]
     },
     "execution_count": 147,
     "metadata": {},
     "output_type": "execute_result"
    },
    {
     "data": {
      "image/png": "[encoded data removed]",
      "text/plain": [
       "<Figure size 864x648 with 1 Axes>"
      ]
     },
     "metadata": {
      "needs_background": "light"
     },
     "output_type": "display_data"
    }
   ],
   "source": [
    "plt.figure(figsize=(12,9))\n",
    "sns.distplot(treatment1.Quantity, label=\"Discount\")\n",
    "sns.distplot(control1.Quantity, label=\"No Discount\")\n",
    "plt.title(\"Quantities Orders with and without Discount\")\n",
    "plt.axvline(treatment1.Quantity.mean(), label=\"Mean: \"+str(round(treatment1.Quantity.mean(), 2)), color=\"blue\", linestyle='--')\n",
    "plt.axvline(control1.Quantity.mean(), label=\"Mean: \" +str(round(control1.Quantity.mean(), 2)), color=\"orange\", linestyle='--')\n",
    "plt.title(\"Quantities Ordered Between the British Isles and North America Regions\")\n",
    "plt.ylabel(\"Frequency\")\n",
    "plt.legend()"
   ]
  },
  {
   "cell_type": "markdown",
   "metadata": {},
   "source": [
    "From the histogram, we can see that the data does not seem to be normally distributed. We will use the Kolmogorov-Smirnov test for normality to confirm this observation."
   ]
  },
  {
   "cell_type": "code",
   "execution_count": 148,
   "metadata": {},
   "outputs": [
    {
     "data": {
      "text/plain": [
       "KstestResult(statistic=0.9724765983620833, pvalue=0.0)"
      ]
     },
     "execution_count": 148,
     "metadata": {},
     "output_type": "execute_result"
    }
   ],
   "source": [
    "# Kolmogorov-Smirnov test for Discounted Sample\n",
    "stats.kstest(treatment1.Quantity, 'norm')"
   ]
  },
  {
   "cell_type": "code",
   "execution_count": 149,
   "metadata": {},
   "outputs": [
    {
     "data": {
      "text/plain": [
       "KstestResult(statistic=0.9673789492970751, pvalue=0.0)"
      ]
     },
     "execution_count": 149,
     "metadata": {},
     "output_type": "execute_result"
    }
   ],
   "source": [
    "# Kolmogorov-Smirnov test for Non-Discounted Sample\n",
    "stats.kstest(control1.Quantity, 'norm')"
   ]
  },
  {
   "cell_type": "markdown",
   "metadata": {},
   "source": [
    "The p-values for both of our samples are below 0.05, meaning we can reject the null hypothesis and conclude that our samples' distributions are not identical to a normal distribution. However, since we are working with such a large sample size (n > 800), we can still move on to check variance and perform a T-test. "
   ]
  },
  {
   "cell_type": "code",
   "execution_count": 150,
   "metadata": {},
   "outputs": [
    {
     "name": "stdout",
     "output_type": "stream",
     "text": [
      "Input samples are not from populations with equal variances.\n"
     ]
    }
   ],
   "source": [
    "# Levene Test\n",
    "if stats.levene(control1.Quantity, treatment1.Quantity)[1]<0.05:\n",
    "    print('Input samples are not from populations with equal variances.')\n",
    "else:\n",
    "    print('Input samples are from populations with equal variances.')"
   ]
  },
  {
   "cell_type": "markdown",
   "metadata": {},
   "source": [
    "We used Levene's Test to determine whether or not the variance is equal to the p-value. This will help guide our decision making on which type of T-test to deploy. Since our variances are not equal, we shall use Welch's T-test (Two-Sample, Two-Tailed)."
   ]
  },
  {
   "cell_type": "code",
   "execution_count": 151,
   "metadata": {},
   "outputs": [
    {
     "name": "stdout",
     "output_type": "stream",
     "text": [
      "T-statistic: 6.239069142123973\n",
      "Degrees of Freedom: 1561.7678231942148\n",
      "P-value: 5.656413115673331e-10\n",
      "Decision: Reject Null Hypothesis\n"
     ]
    }
   ],
   "source": [
    "welch_t(control1.Quantity, treatment1.Quantity, two_sided=True)"
   ]
  },
  {
   "cell_type": "code",
   "execution_count": 152,
   "metadata": {
    "scrolled": true
   },
   "outputs": [
    {
     "name": "stdout",
     "output_type": "stream",
     "text": [
      "Effect size: -0.2862724481729282\n"
     ]
    }
   ],
   "source": [
    "effect_size = Cohen_d(control1.Quantity, treatment1.Quantity)\n",
    "print(\"Effect size:\", effect_size)\n",
    "\n",
    "# small = 0.2\n",
    "# medium = 0.5\n",
    "# large = 0.8"
   ]
  },
  {
   "cell_type": "code",
   "execution_count": 44,
   "metadata": {},
   "outputs": [
    {
     "data": {
      "text/plain": [
       "1.0"
      ]
     },
     "execution_count": 44,
     "metadata": {},
     "output_type": "execute_result"
    }
   ],
   "source": [
    "# Power\n",
    "power_analysis = TTestIndPower()\n",
    "power_analysis.solve_power(effect_size=0.2862724481729282, nobs1=838, alpha=.05)\n",
    "\n",
    "# IF power >= .8 - accept/reject null hypotheses\n",
    "# IF power < .8 - resample or larger sample"
   ]
  },
  {
   "cell_type": "markdown",
   "metadata": {},
   "source": [
    "**Results**: With a P-value of less than our established alpha of 0.05, and a power of greater than 0.8, we can successfully reject the null hypothesis and accept the alternative that orders with a discount have a statistically significant effect on quantity ordered."
   ]
  },
  {
   "cell_type": "markdown",
   "metadata": {},
   "source": [
    "Having accepted the alternative hypothesis, we will now further inspect to see at what level(s) of discount is the effect most significant. We felt that using an ANOVA table would be the most efficient way to compare the effectivness of each individual discount level. We used the no discount group as the control."
   ]
  },
  {
   "cell_type": "code",
   "execution_count": 53,
   "metadata": {},
   "outputs": [
    {
     "data": {
      "text/html": [
       "<div>\n",
       "<style scoped>\n",
       "    .dataframe tbody tr th:only-of-type {\n",
       "        vertical-align: middle;\n",
       "    }\n",
       "\n",
       "    .dataframe tbody tr th {\n",
       "        vertical-align: top;\n",
       "    }\n",
       "\n",
       "    .dataframe thead th {\n",
       "        text-align: right;\n",
       "    }\n",
       "</style>\n",
       "<table border=\"1\" class=\"dataframe\">\n",
       "  <thead>\n",
       "    <tr style=\"text-align: right;\">\n",
       "      <th></th>\n",
       "      <th>zero</th>\n",
       "      <th>five</th>\n",
       "      <th>ten</th>\n",
       "      <th>fifteen</th>\n",
       "      <th>twenty</th>\n",
       "      <th>twentyfive</th>\n",
       "    </tr>\n",
       "  </thead>\n",
       "  <tbody>\n",
       "    <tr>\n",
       "      <th>0</th>\n",
       "      <td>6</td>\n",
       "      <td>12</td>\n",
       "      <td>20</td>\n",
       "      <td>24</td>\n",
       "      <td>40</td>\n",
       "      <td>20</td>\n",
       "    </tr>\n",
       "    <tr>\n",
       "      <th>1</th>\n",
       "      <td>9</td>\n",
       "      <td>28</td>\n",
       "      <td>18</td>\n",
       "      <td>70</td>\n",
       "      <td>55</td>\n",
       "      <td>2</td>\n",
       "    </tr>\n",
       "    <tr>\n",
       "      <th>2</th>\n",
       "      <td>40</td>\n",
       "      <td>24</td>\n",
       "      <td>18</td>\n",
       "      <td>40</td>\n",
       "      <td>6</td>\n",
       "      <td>12</td>\n",
       "    </tr>\n",
       "    <tr>\n",
       "      <th>3</th>\n",
       "      <td>12</td>\n",
       "      <td>8</td>\n",
       "      <td>15</td>\n",
       "      <td>10</td>\n",
       "      <td>30</td>\n",
       "      <td>20</td>\n",
       "    </tr>\n",
       "    <tr>\n",
       "      <th>4</th>\n",
       "      <td>14</td>\n",
       "      <td>2</td>\n",
       "      <td>10</td>\n",
       "      <td>16</td>\n",
       "      <td>45</td>\n",
       "      <td>30</td>\n",
       "    </tr>\n",
       "  </tbody>\n",
       "</table>\n",
       "</div>"
      ],
      "text/plain": [
       "   zero  five  ten  fifteen  twenty  twentyfive\n",
       "0     6    12   20       24      40          20\n",
       "1     9    28   18       70      55           2\n",
       "2    40    24   18       40       6          12\n",
       "3    12     8   15       10      30          20\n",
       "4    14     2   10       16      45          30"
      ]
     },
     "execution_count": 53,
     "metadata": {},
     "output_type": "execute_result"
    }
   ],
   "source": [
    "# separate discount rates\n",
    "zero = df_nd\n",
    "five = df_d.loc[df_d['Discount'] == 0.05]\n",
    "ten = df_d.loc[df_d['Discount'] == 0.10]\n",
    "fifteen = df_d.loc[df_d['Discount'] == 0.15]\n",
    "twenty = df_d.loc[df_d['Discount'] == 0.20]\n",
    "twentyfive = df_d.loc[df_d['Discount'] == 0.25]\n",
    "\n",
    "rates = pd.DataFrame()\n",
    "\n",
    "for group, name in [(zero, 'zero'), (five, 'five'), (ten, 'ten'), (fifteen, 'fifteen'), (twenty, 'twenty'), (twentyfive, 'twentyfive')]:\n",
    "    group = group.sample(n=100, random_state=10)\n",
    "    rates[name] = group.Quantity.reset_index(drop=True)\n",
    "rates.head()"
   ]
  },
  {
   "cell_type": "code",
   "execution_count": 54,
   "metadata": {},
   "outputs": [
    {
     "name": "stdout",
     "output_type": "stream",
     "text": [
      "                  sum_sq    df         F    PR(>F)\n",
      "five            0.098743   1.0  0.000494  0.982311\n",
      "ten           132.612105   1.0  0.663715  0.417311\n",
      "fifteen       242.871017   1.0  1.215553  0.273050\n",
      "twenty        840.903201   1.0  4.208665  0.043000\n",
      "twentyfive      9.420252   1.0  0.047148  0.828573\n",
      "Residual    18781.465651  94.0       NaN       NaN\n"
     ]
    }
   ],
   "source": [
    "formula = 'zero ~ five + ten + fifteen + twenty + twentyfive'\n",
    "lm = ols(formula, rates).fit()\n",
    "table = sm.stats.anova_lm(lm, typ=2)\n",
    "print(table)"
   ]
  },
  {
   "cell_type": "markdown",
   "metadata": {},
   "source": [
    "To interpret our ANOVA table, the far right column whose values of less than our alpha (0.05) indicate that we can reject the null hypothesis. Thus we can conclude that discount rates of 10, 15 and 20% have a statistically significant effect on quantiyy ordered. Of those, 20% seems to be the most influential. This seems to follow conventional wisdom, until we reach the maximum discount of 25%, which did not have a statistically significant effect. Our recommendation to Northwind would be to target their discounts in the 10-20% range, but never exceeding the 20%. "
   ]
  },
  {
   "cell_type": "markdown",
   "metadata": {},
   "source": [
    "<h2> 2. Does the region from which an employee is based have an effect on quantities ordered? </h2>"
   ]
  },
  {
   "cell_type": "code",
   "execution_count": 56,
   "metadata": {},
   "outputs": [
    {
     "data": {
      "text/html": [
       "<div>\n",
       "<style scoped>\n",
       "    .dataframe tbody tr th:only-of-type {\n",
       "        vertical-align: middle;\n",
       "    }\n",
       "\n",
       "    .dataframe tbody tr th {\n",
       "        vertical-align: top;\n",
       "    }\n",
       "\n",
       "    .dataframe thead th {\n",
       "        text-align: right;\n",
       "    }\n",
       "</style>\n",
       "<table border=\"1\" class=\"dataframe\">\n",
       "  <thead>\n",
       "    <tr style=\"text-align: right;\">\n",
       "      <th></th>\n",
       "      <th>LastName</th>\n",
       "      <th>FirstName</th>\n",
       "      <th>City</th>\n",
       "      <th>Region</th>\n",
       "      <th>Title</th>\n",
       "      <th>TerritoryId</th>\n",
       "    </tr>\n",
       "  </thead>\n",
       "  <tbody>\n",
       "    <tr>\n",
       "      <th>0</th>\n",
       "      <td>Buchanan</td>\n",
       "      <td>Steven</td>\n",
       "      <td>London</td>\n",
       "      <td>British Isles</td>\n",
       "      <td>Sales Manager</td>\n",
       "      <td>14450</td>\n",
       "    </tr>\n",
       "    <tr>\n",
       "      <th>1</th>\n",
       "      <td>Suyama</td>\n",
       "      <td>Michael</td>\n",
       "      <td>London</td>\n",
       "      <td>British Isles</td>\n",
       "      <td>Sales Representative</td>\n",
       "      <td>98104</td>\n",
       "    </tr>\n",
       "    <tr>\n",
       "      <th>2</th>\n",
       "      <td>King</td>\n",
       "      <td>Robert</td>\n",
       "      <td>London</td>\n",
       "      <td>British Isles</td>\n",
       "      <td>Sales Representative</td>\n",
       "      <td>95060</td>\n",
       "    </tr>\n",
       "    <tr>\n",
       "      <th>3</th>\n",
       "      <td>Dodsworth</td>\n",
       "      <td>Anne</td>\n",
       "      <td>London</td>\n",
       "      <td>British Isles</td>\n",
       "      <td>Sales Representative</td>\n",
       "      <td>55439</td>\n",
       "    </tr>\n",
       "    <tr>\n",
       "      <th>4</th>\n",
       "      <td>Davolio</td>\n",
       "      <td>Nancy</td>\n",
       "      <td>Seattle</td>\n",
       "      <td>North America</td>\n",
       "      <td>Sales Representative</td>\n",
       "      <td>19713</td>\n",
       "    </tr>\n",
       "    <tr>\n",
       "      <th>5</th>\n",
       "      <td>Fuller</td>\n",
       "      <td>Andrew</td>\n",
       "      <td>Tacoma</td>\n",
       "      <td>North America</td>\n",
       "      <td>Vice President, Sales</td>\n",
       "      <td>40222</td>\n",
       "    </tr>\n",
       "    <tr>\n",
       "      <th>6</th>\n",
       "      <td>Leverling</td>\n",
       "      <td>Janet</td>\n",
       "      <td>Kirkland</td>\n",
       "      <td>North America</td>\n",
       "      <td>Sales Representative</td>\n",
       "      <td>33607</td>\n",
       "    </tr>\n",
       "    <tr>\n",
       "      <th>7</th>\n",
       "      <td>Peacock</td>\n",
       "      <td>Margaret</td>\n",
       "      <td>Redmond</td>\n",
       "      <td>North America</td>\n",
       "      <td>Sales Representative</td>\n",
       "      <td>27511</td>\n",
       "    </tr>\n",
       "    <tr>\n",
       "      <th>8</th>\n",
       "      <td>Callahan</td>\n",
       "      <td>Laura</td>\n",
       "      <td>Seattle</td>\n",
       "      <td>North America</td>\n",
       "      <td>Inside Sales Coordinator</td>\n",
       "      <td>53404</td>\n",
       "    </tr>\n",
       "  </tbody>\n",
       "</table>\n",
       "</div>"
      ],
      "text/plain": [
       "    LastName FirstName      City         Region                     Title  \\\n",
       "0   Buchanan    Steven    London  British Isles             Sales Manager   \n",
       "1     Suyama   Michael    London  British Isles      Sales Representative   \n",
       "2       King    Robert    London  British Isles      Sales Representative   \n",
       "3  Dodsworth      Anne    London  British Isles      Sales Representative   \n",
       "4    Davolio     Nancy   Seattle  North America      Sales Representative   \n",
       "5     Fuller    Andrew    Tacoma  North America     Vice President, Sales   \n",
       "6  Leverling     Janet  Kirkland  North America      Sales Representative   \n",
       "7    Peacock  Margaret   Redmond  North America      Sales Representative   \n",
       "8   Callahan     Laura   Seattle  North America  Inside Sales Coordinator   \n",
       "\n",
       "  TerritoryId  \n",
       "0       14450  \n",
       "1       98104  \n",
       "2       95060  \n",
       "3       55439  \n",
       "4       19713  \n",
       "5       40222  \n",
       "6       33607  \n",
       "7       27511  \n",
       "8       53404  "
      ]
     },
     "execution_count": 56,
     "metadata": {},
     "output_type": "execute_result"
    }
   ],
   "source": [
    "cur.execute('''select Employee.LastName, Employee.FirstName, Employee.City, Employee.Region, Employee.Title, EmployeeTerritory.TerritoryId\n",
    "from Employee\n",
    "join [Order] o on Employee.Id = o.EmployeeId\n",
    "join OrderDetail on o.Id = OrderDetail.OrderId\n",
    "join EmployeeTerritory on Employee.Id = EmployeeTerritory.EmployeeId\n",
    "group by Employee.Id\n",
    "order by Employee.Region;''')\n",
    "df_employee = pd.DataFrame(cur.fetchall())\n",
    "df_employee.columns = [x[0] for x in cur.description]\n",
    "df_employee"
   ]
  },
  {
   "cell_type": "markdown",
   "metadata": {},
   "source": [
    "As you can see above, Northwind has a total of 9 employees either based in London or the Pacific Northwest of the United States. For this experiment, we want to test the hypothesis that will give us more information between the two regions on which employees are based. This could potentially give us more insight into the habits of the customers they serve, as well as performance of employees in that region."
   ]
  },
  {
   "cell_type": "markdown",
   "metadata": {},
   "source": [
    "> **Control** : British Isles order Quantities\n",
    ">\n",
    "> **Treatment** : North American order Quantities\n",
    ">\n",
    ">>$H_{0}:$ Orders placed through the British Isles have the same quantities as orders placed through North America. $\\mu_0  = \\mu_1 $\n",
    ">\n",
    ">> $H_{1}:$ Orders placed through the North American Region do not have the same quantities as orders placed through the British Isles . $\\mu_0 \\neq \\mu_1 $\n",
    ">\n",
    "> Significance Level: $\\alpha = 0.05$ (Probability of a Type I error)"
   ]
  },
  {
   "cell_type": "code",
   "execution_count": 90,
   "metadata": {
    "scrolled": false
   },
   "outputs": [
    {
     "name": "stdout",
     "output_type": "stream",
     "text": [
      "<class 'pandas.core.frame.DataFrame'>\n",
      "RangeIndex: 568 entries, 0 to 567\n",
      "Data columns (total 2 columns):\n",
      "Region      568 non-null object\n",
      "Quantity    568 non-null int64\n",
      "dtypes: int64(1), object(1)\n",
      "memory usage: 9.0+ KB\n"
     ]
    },
    {
     "data": {
      "text/html": [
       "<div>\n",
       "<style scoped>\n",
       "    .dataframe tbody tr th:only-of-type {\n",
       "        vertical-align: middle;\n",
       "    }\n",
       "\n",
       "    .dataframe tbody tr th {\n",
       "        vertical-align: top;\n",
       "    }\n",
       "\n",
       "    .dataframe thead th {\n",
       "        text-align: right;\n",
       "    }\n",
       "</style>\n",
       "<table border=\"1\" class=\"dataframe\">\n",
       "  <thead>\n",
       "    <tr style=\"text-align: right;\">\n",
       "      <th></th>\n",
       "      <th>Quantity</th>\n",
       "    </tr>\n",
       "  </thead>\n",
       "  <tbody>\n",
       "    <tr>\n",
       "      <th>count</th>\n",
       "      <td>568.000000</td>\n",
       "    </tr>\n",
       "    <tr>\n",
       "      <th>mean</th>\n",
       "      <td>24.448944</td>\n",
       "    </tr>\n",
       "    <tr>\n",
       "      <th>std</th>\n",
       "      <td>19.360067</td>\n",
       "    </tr>\n",
       "    <tr>\n",
       "      <th>min</th>\n",
       "      <td>1.000000</td>\n",
       "    </tr>\n",
       "    <tr>\n",
       "      <th>25%</th>\n",
       "      <td>10.000000</td>\n",
       "    </tr>\n",
       "    <tr>\n",
       "      <th>50%</th>\n",
       "      <td>20.000000</td>\n",
       "    </tr>\n",
       "    <tr>\n",
       "      <th>75%</th>\n",
       "      <td>30.000000</td>\n",
       "    </tr>\n",
       "    <tr>\n",
       "      <th>max</th>\n",
       "      <td>130.000000</td>\n",
       "    </tr>\n",
       "  </tbody>\n",
       "</table>\n",
       "</div>"
      ],
      "text/plain": [
       "         Quantity\n",
       "count  568.000000\n",
       "mean    24.448944\n",
       "std     19.360067\n",
       "min      1.000000\n",
       "25%     10.000000\n",
       "50%     20.000000\n",
       "75%     30.000000\n",
       "max    130.000000"
      ]
     },
     "execution_count": 90,
     "metadata": {},
     "output_type": "execute_result"
    }
   ],
   "source": [
    "# Control (Orders placed through British Isles)\n",
    "cur.execute('''select Employee.Region, OrderDetail.Quantity\n",
    "from Employee\n",
    "join [Order] o on Employee.Id = o.EmployeeId\n",
    "join OrderDetail on o.Id = OrderDetail.OrderId\n",
    "where Region = \"British Isles\";''')\n",
    "control2 = pd.DataFrame(cur.fetchall())\n",
    "control2.columns = [x[0] for x in cur.description]\n",
    "control2.info() # checks for correct data type and any null values\n",
    "control2.describe() # overview of the data"
   ]
  },
  {
   "cell_type": "code",
   "execution_count": 91,
   "metadata": {},
   "outputs": [
    {
     "data": {
      "text/html": [
       "<div>\n",
       "<style scoped>\n",
       "    .dataframe tbody tr th:only-of-type {\n",
       "        vertical-align: middle;\n",
       "    }\n",
       "\n",
       "    .dataframe tbody tr th {\n",
       "        vertical-align: top;\n",
       "    }\n",
       "\n",
       "    .dataframe thead th {\n",
       "        text-align: right;\n",
       "    }\n",
       "</style>\n",
       "<table border=\"1\" class=\"dataframe\">\n",
       "  <thead>\n",
       "    <tr style=\"text-align: right;\">\n",
       "      <th></th>\n",
       "      <th>Region</th>\n",
       "      <th>Quantity</th>\n",
       "    </tr>\n",
       "  </thead>\n",
       "  <tbody>\n",
       "    <tr>\n",
       "      <th>0</th>\n",
       "      <td>British Isles</td>\n",
       "      <td>12</td>\n",
       "    </tr>\n",
       "    <tr>\n",
       "      <th>1</th>\n",
       "      <td>British Isles</td>\n",
       "      <td>10</td>\n",
       "    </tr>\n",
       "    <tr>\n",
       "      <th>2</th>\n",
       "      <td>British Isles</td>\n",
       "      <td>5</td>\n",
       "    </tr>\n",
       "    <tr>\n",
       "      <th>3</th>\n",
       "      <td>British Isles</td>\n",
       "      <td>9</td>\n",
       "    </tr>\n",
       "    <tr>\n",
       "      <th>4</th>\n",
       "      <td>British Isles</td>\n",
       "      <td>40</td>\n",
       "    </tr>\n",
       "  </tbody>\n",
       "</table>\n",
       "</div>"
      ],
      "text/plain": [
       "          Region  Quantity\n",
       "0  British Isles        12\n",
       "1  British Isles        10\n",
       "2  British Isles         5\n",
       "3  British Isles         9\n",
       "4  British Isles        40"
      ]
     },
     "execution_count": 91,
     "metadata": {},
     "output_type": "execute_result"
    }
   ],
   "source": [
    "control2.head()"
   ]
  },
  {
   "cell_type": "code",
   "execution_count": 92,
   "metadata": {},
   "outputs": [
    {
     "name": "stdout",
     "output_type": "stream",
     "text": [
      "<class 'pandas.core.frame.DataFrame'>\n",
      "RangeIndex: 1587 entries, 0 to 1586\n",
      "Data columns (total 2 columns):\n",
      "Region      1587 non-null object\n",
      "Quantity    1587 non-null int64\n",
      "dtypes: int64(1), object(1)\n",
      "memory usage: 24.9+ KB\n"
     ]
    },
    {
     "data": {
      "text/html": [
       "<div>\n",
       "<style scoped>\n",
       "    .dataframe tbody tr th:only-of-type {\n",
       "        vertical-align: middle;\n",
       "    }\n",
       "\n",
       "    .dataframe tbody tr th {\n",
       "        vertical-align: top;\n",
       "    }\n",
       "\n",
       "    .dataframe thead th {\n",
       "        text-align: right;\n",
       "    }\n",
       "</style>\n",
       "<table border=\"1\" class=\"dataframe\">\n",
       "  <thead>\n",
       "    <tr style=\"text-align: right;\">\n",
       "      <th></th>\n",
       "      <th>Quantity</th>\n",
       "    </tr>\n",
       "  </thead>\n",
       "  <tbody>\n",
       "    <tr>\n",
       "      <th>count</th>\n",
       "      <td>1587.000000</td>\n",
       "    </tr>\n",
       "    <tr>\n",
       "      <th>mean</th>\n",
       "      <td>23.585381</td>\n",
       "    </tr>\n",
       "    <tr>\n",
       "      <th>std</th>\n",
       "      <td>18.900569</td>\n",
       "    </tr>\n",
       "    <tr>\n",
       "      <th>min</th>\n",
       "      <td>1.000000</td>\n",
       "    </tr>\n",
       "    <tr>\n",
       "      <th>25%</th>\n",
       "      <td>10.000000</td>\n",
       "    </tr>\n",
       "    <tr>\n",
       "      <th>50%</th>\n",
       "      <td>20.000000</td>\n",
       "    </tr>\n",
       "    <tr>\n",
       "      <th>75%</th>\n",
       "      <td>30.000000</td>\n",
       "    </tr>\n",
       "    <tr>\n",
       "      <th>max</th>\n",
       "      <td>130.000000</td>\n",
       "    </tr>\n",
       "  </tbody>\n",
       "</table>\n",
       "</div>"
      ],
      "text/plain": [
       "          Quantity\n",
       "count  1587.000000\n",
       "mean     23.585381\n",
       "std      18.900569\n",
       "min       1.000000\n",
       "25%      10.000000\n",
       "50%      20.000000\n",
       "75%      30.000000\n",
       "max     130.000000"
      ]
     },
     "execution_count": 92,
     "metadata": {},
     "output_type": "execute_result"
    }
   ],
   "source": [
    "# Treatment (Orders placed through North America)\n",
    "cur.execute('''select Employee.Region, OrderDetail.Quantity\n",
    "from Employee\n",
    "join [Order] o on Employee.Id = o.EmployeeId\n",
    "join OrderDetail on o.Id = OrderDetail.OrderId\n",
    "where Region = \"North America\";''')\n",
    "treatment2 = pd.DataFrame(cur.fetchall())\n",
    "treatment2.columns = [x[0] for x in cur.description]\n",
    "treatment2.info() # checks for correct data type and any null values\n",
    "treatment2.describe() # overview of the data"
   ]
  },
  {
   "cell_type": "code",
   "execution_count": 93,
   "metadata": {},
   "outputs": [
    {
     "data": {
      "text/html": [
       "<div>\n",
       "<style scoped>\n",
       "    .dataframe tbody tr th:only-of-type {\n",
       "        vertical-align: middle;\n",
       "    }\n",
       "\n",
       "    .dataframe tbody tr th {\n",
       "        vertical-align: top;\n",
       "    }\n",
       "\n",
       "    .dataframe thead th {\n",
       "        text-align: right;\n",
       "    }\n",
       "</style>\n",
       "<table border=\"1\" class=\"dataframe\">\n",
       "  <thead>\n",
       "    <tr style=\"text-align: right;\">\n",
       "      <th></th>\n",
       "      <th>Region</th>\n",
       "      <th>Quantity</th>\n",
       "    </tr>\n",
       "  </thead>\n",
       "  <tbody>\n",
       "    <tr>\n",
       "      <th>0</th>\n",
       "      <td>North America</td>\n",
       "      <td>10</td>\n",
       "    </tr>\n",
       "    <tr>\n",
       "      <th>1</th>\n",
       "      <td>North America</td>\n",
       "      <td>35</td>\n",
       "    </tr>\n",
       "    <tr>\n",
       "      <th>2</th>\n",
       "      <td>North America</td>\n",
       "      <td>15</td>\n",
       "    </tr>\n",
       "    <tr>\n",
       "      <th>3</th>\n",
       "      <td>North America</td>\n",
       "      <td>6</td>\n",
       "    </tr>\n",
       "    <tr>\n",
       "      <th>4</th>\n",
       "      <td>North America</td>\n",
       "      <td>15</td>\n",
       "    </tr>\n",
       "  </tbody>\n",
       "</table>\n",
       "</div>"
      ],
      "text/plain": [
       "          Region  Quantity\n",
       "0  North America        10\n",
       "1  North America        35\n",
       "2  North America        15\n",
       "3  North America         6\n",
       "4  North America        15"
      ]
     },
     "execution_count": 93,
     "metadata": {},
     "output_type": "execute_result"
    }
   ],
   "source": [
    "treatment2.head()"
   ]
  },
  {
   "cell_type": "markdown",
   "metadata": {},
   "source": [
    "After separating our data into control and treatment comparison groups, we can see that we have 568 entries for the control, and 1587 entries for the treatment. Both are sufficiently large for hypotheis testing so we can move on to checking the distribution.\n",
    "<br>\n",
    "<br>\n",
    "**Note**: the mean and standard distribution of the control and treatment groups appear to be very similar to each other. Hinting at what the hypothesis testing may reveal. "
   ]
  },
  {
   "cell_type": "code",
   "execution_count": 99,
   "metadata": {},
   "outputs": [
    {
     "name": "stderr",
     "output_type": "stream",
     "text": [
      "/anaconda3/envs/learn-env/lib/python3.6/site-packages/scipy/stats/stats.py:1713: FutureWarning: Using a non-tuple sequence for multidimensional indexing is deprecated; use `arr[tuple(seq)]` instead of `arr[seq]`. In the future this will be interpreted as an array index, `arr[np.array(seq)]`, which will result either in an error or a different result.\n",
      "  return np.add.reduce(sorted[indexer] * weights, axis=axis) / sumval\n"
     ]
    },
    {
     "data": {
      "text/plain": [
       "<matplotlib.legend.Legend at 0x1c1734a400>"
      ]
     },
     "execution_count": 99,
     "metadata": {},
     "output_type": "execute_result"
    },
    {
     "data": {
      "image/png": "[encoded data removed]",
      "text/plain": [
       "<Figure size 864x648 with 1 Axes>"
      ]
     },
     "metadata": {
      "needs_background": "light"
     },
     "output_type": "display_data"
    }
   ],
   "source": [
    "# distribution plot \n",
    "plt.figure(figsize=(12,9))\n",
    "sns.distplot(control2.Quantity, label=\"British Isles\", color=\"green\")\n",
    "sns.distplot(treatment2.Quantity, label=\"North America\", color=\"red\")\n",
    "plt.axvline(control2.Quantity.mean(), label=\"Mean: \"+str(round(control2.Quantity.mean(), 2)), color=\"green\", linestyle='--')\n",
    "plt.axvline(treatment2.Quantity.mean(), label=\"Mean: \" +str(round(treatment2.Quantity.mean(), 2)), color=\"red\", linestyle='--')\n",
    "plt.title(\"Quantities Ordered Between the British Isles and North America Regions\")\n",
    "plt.ylabel(\"Frequency\")\n",
    "plt.legend()"
   ]
  },
  {
   "cell_type": "code",
   "execution_count": 100,
   "metadata": {},
   "outputs": [
    {
     "data": {
      "text/plain": [
       "KstestResult(statistic=0.9757627780247079, pvalue=0.0)"
      ]
     },
     "execution_count": 100,
     "metadata": {},
     "output_type": "execute_result"
    }
   ],
   "source": [
    "# Kolmogorov-Smirnov test for normality for British Isles\n",
    "stats.kstest(control2.Quantity, 'norm')"
   ]
  },
  {
   "cell_type": "code",
   "execution_count": 101,
   "metadata": {},
   "outputs": [
    {
     "data": {
      "text/plain": [
       "KstestResult(statistic=0.9684281919333583, pvalue=0.0)"
      ]
     },
     "execution_count": 101,
     "metadata": {},
     "output_type": "execute_result"
    }
   ],
   "source": [
    "# Kolmogorov-Smirnov test for normality for North America \n",
    "stats.kstest(treatment2.Quantity, 'norm')"
   ]
  },
  {
   "cell_type": "markdown",
   "metadata": {},
   "source": [
    "The p-values for both of our samples are below 0.05, meaning we can reject the null hypothesis and conclude that our samples' distributions are no identical to a normal distribution. We can also visually confirm using the histogram above. However, since we are working with such a large sample size (n > 500), we can still move on to check variance and perform a T-test. "
   ]
  },
  {
   "cell_type": "code",
   "execution_count": 103,
   "metadata": {},
   "outputs": [
    {
     "name": "stdout",
     "output_type": "stream",
     "text": [
      "Input samples are from populations with equal variances.\n"
     ]
    }
   ],
   "source": [
    "# Levene Test\n",
    "if stats.levene(control2.Quantity,treatment2.Quantity)[1]<0.05:\n",
    "    print('Input samples are not from populations with equal variances.')\n",
    "else:\n",
    "    print('Input samples are from populations with equal variances.')"
   ]
  },
  {
   "cell_type": "markdown",
   "metadata": {},
   "source": [
    "For these two samples, the variances to equal, meaning we can use the Two-sample Student's T-test (2-Tailed) to check our hypothesis. "
   ]
  },
  {
   "cell_type": "code",
   "execution_count": 105,
   "metadata": {},
   "outputs": [
    {
     "data": {
      "text/plain": [
       "Ttest_indResult(statistic=-0.928456539361685, pvalue=0.35327487750397335)"
      ]
     },
     "execution_count": 105,
     "metadata": {},
     "output_type": "execute_result"
    }
   ],
   "source": [
    "# Student's T-Test (2-Tailed)\n",
    "stats.ttest_ind(treatment2.Quantity, control2.Quantity)"
   ]
  },
  {
   "cell_type": "code",
   "execution_count": 142,
   "metadata": {},
   "outputs": [
    {
     "name": "stdout",
     "output_type": "stream",
     "text": [
      "Effect size: 0.045396280249395585\n"
     ]
    }
   ],
   "source": [
    "# effect size using Cohen's D\n",
    "effect_size2 = Cohen_d(control2.Quantity, treatment2.Quantity)\n",
    "print(\"Effect size:\", effect_size2)\n",
    "\n",
    "# small = 0.2\n",
    "# medium = 0.5\n",
    "# large = 0.8"
   ]
  },
  {
   "cell_type": "code",
   "execution_count": 112,
   "metadata": {},
   "outputs": [
    {
     "data": {
      "text/plain": [
       "0.11067037226659593"
      ]
     },
     "execution_count": 112,
     "metadata": {},
     "output_type": "execute_result"
    }
   ],
   "source": [
    "# Power\n",
    "power_analysis = TTestIndPower()\n",
    "power_analysis.solve_power(effect_size=effect_size2, nobs1=500, alpha=.05)\n",
    "\n",
    "# IF power >= .8 - accept/reject null hypotheses\n",
    "# IF power < .8 - resample or larger sample"
   ]
  },
  {
   "cell_type": "markdown",
   "metadata": {},
   "source": [
    "**Results**: With a p-value of 0.353, we can say that we *fail to reject the null hypothesis*. Thus we can assume that the region from which an employee is based should not have an effect on quantity ordered. This conclusion is further verified by the very low effect size (lots of overlap between the two populations). However, the low power indicates that we may not have a large enough sample to come to a firm conclusion. <br>\n",
    "<br>\n",
    "This result gives us further insight into the Northwind company. It gives some evidence that employee performance is not effected by the region in which they are employeed and you have consistent performance accross the company. This would point to a strength within the company to maintain consistent performance across continents. "
   ]
  },
  {
   "cell_type": "markdown",
   "metadata": {},
   "source": [
    "<h2> 3. Do orders without meat/poultry have a higher revenue than orders with meat/poultry? </h2>"
   ]
  },
  {
   "cell_type": "markdown",
   "metadata": {},
   "source": [
    "The cultural norms and concerns are shifting as the world becomes more conscious of Global Warming and sustainability. We are testing this hypothesis to see if this has begun to effect the revenue of Northwind and if any change in market strategy should occur."
   ]
  },
  {
   "cell_type": "markdown",
   "metadata": {},
   "source": [
    "> **Control** : Revenue from orders with meat/poultry\n",
    ">\n",
    "> **Treatment** : Revenue from orders without meat/poultry\n",
    ">\n",
    ">>$H_{0}:$ Orders with meat/poultry have the same revenue as orders without meat/poultry. $\\mu_0  = \\mu_1 $\n",
    ">\n",
    ">> $H_{1}:$ Orders without meat/poultry have greater revenue than orders with meat/poultry. $\\mu_0 > \\mu_1 $\n",
    ">\n",
    "> Significance Level: $\\alpha = 0.05$ (Probability of a Type I error)"
   ]
  },
  {
   "cell_type": "markdown",
   "metadata": {},
   "source": [
    "We define revenue as: <br>\n",
    "*Unit Price * (1 - Discount) * Quantity*"
   ]
  },
  {
   "cell_type": "code",
   "execution_count": 69,
   "metadata": {
    "scrolled": true
   },
   "outputs": [
    {
     "data": {
      "text/html": [
       "<div>\n",
       "<style scoped>\n",
       "    .dataframe tbody tr th:only-of-type {\n",
       "        vertical-align: middle;\n",
       "    }\n",
       "\n",
       "    .dataframe tbody tr th {\n",
       "        vertical-align: top;\n",
       "    }\n",
       "\n",
       "    .dataframe thead th {\n",
       "        text-align: right;\n",
       "    }\n",
       "</style>\n",
       "<table border=\"1\" class=\"dataframe\">\n",
       "  <thead>\n",
       "    <tr style=\"text-align: right;\">\n",
       "      <th></th>\n",
       "      <th>OrderId</th>\n",
       "      <th>Bev_rev</th>\n",
       "      <th>Dairy_rev</th>\n",
       "      <th>Conf_rev</th>\n",
       "      <th>Meat_rev</th>\n",
       "      <th>Sea_rev</th>\n",
       "      <th>Cond_rev</th>\n",
       "      <th>Veg_rev</th>\n",
       "      <th>Grain_rev</th>\n",
       "      <th>Total</th>\n",
       "    </tr>\n",
       "  </thead>\n",
       "  <tbody>\n",
       "    <tr>\n",
       "      <th>0</th>\n",
       "      <td>10248</td>\n",
       "      <td>0.0</td>\n",
       "      <td>342.0</td>\n",
       "      <td>0.0</td>\n",
       "      <td>0.0</td>\n",
       "      <td>0.0</td>\n",
       "      <td>0.0</td>\n",
       "      <td>0.0</td>\n",
       "      <td>98.00</td>\n",
       "      <td>440.00</td>\n",
       "    </tr>\n",
       "    <tr>\n",
       "      <th>1</th>\n",
       "      <td>10249</td>\n",
       "      <td>0.0</td>\n",
       "      <td>0.0</td>\n",
       "      <td>0.0</td>\n",
       "      <td>0.0</td>\n",
       "      <td>0.0</td>\n",
       "      <td>0.0</td>\n",
       "      <td>1863.4</td>\n",
       "      <td>0.00</td>\n",
       "      <td>1863.40</td>\n",
       "    </tr>\n",
       "    <tr>\n",
       "      <th>2</th>\n",
       "      <td>10250</td>\n",
       "      <td>0.0</td>\n",
       "      <td>0.0</td>\n",
       "      <td>0.0</td>\n",
       "      <td>0.0</td>\n",
       "      <td>77.0</td>\n",
       "      <td>214.2</td>\n",
       "      <td>1261.4</td>\n",
       "      <td>0.00</td>\n",
       "      <td>1552.60</td>\n",
       "    </tr>\n",
       "    <tr>\n",
       "      <th>3</th>\n",
       "      <td>10251</td>\n",
       "      <td>0.0</td>\n",
       "      <td>0.0</td>\n",
       "      <td>0.0</td>\n",
       "      <td>0.0</td>\n",
       "      <td>0.0</td>\n",
       "      <td>336.0</td>\n",
       "      <td>0.0</td>\n",
       "      <td>318.06</td>\n",
       "      <td>654.06</td>\n",
       "    </tr>\n",
       "    <tr>\n",
       "      <th>4</th>\n",
       "      <td>10252</td>\n",
       "      <td>0.0</td>\n",
       "      <td>1135.5</td>\n",
       "      <td>2462.4</td>\n",
       "      <td>0.0</td>\n",
       "      <td>0.0</td>\n",
       "      <td>0.0</td>\n",
       "      <td>0.0</td>\n",
       "      <td>0.00</td>\n",
       "      <td>3597.90</td>\n",
       "    </tr>\n",
       "  </tbody>\n",
       "</table>\n",
       "</div>"
      ],
      "text/plain": [
       "   OrderId  Bev_rev  Dairy_rev  Conf_rev  Meat_rev  Sea_rev  Cond_rev  \\\n",
       "0    10248      0.0      342.0       0.0       0.0      0.0       0.0   \n",
       "1    10249      0.0        0.0       0.0       0.0      0.0       0.0   \n",
       "2    10250      0.0        0.0       0.0       0.0     77.0     214.2   \n",
       "3    10251      0.0        0.0       0.0       0.0      0.0     336.0   \n",
       "4    10252      0.0     1135.5    2462.4       0.0      0.0       0.0   \n",
       "\n",
       "   Veg_rev  Grain_rev    Total  \n",
       "0      0.0      98.00   440.00  \n",
       "1   1863.4       0.00  1863.40  \n",
       "2   1261.4       0.00  1552.60  \n",
       "3      0.0     318.06   654.06  \n",
       "4      0.0       0.00  3597.90  "
      ]
     },
     "execution_count": 69,
     "metadata": {},
     "output_type": "execute_result"
    }
   ],
   "source": [
    "# revenue subtotals for each product category\n",
    "cur.execute('''SELECT od.OrderId,\n",
    "                            SUM(CASE WHEN c.CategoryName == 'Beverages'\n",
    "                                THEN (od.UnitPrice * (1 - od.Discount)) * od.Quantity\n",
    "                                ELSE 0 END\n",
    "                                ) Bev_rev,\n",
    "                            SUM(CASE WHEN c.CategoryName == 'Dairy Products'\n",
    "                                THEN (od.UnitPrice * (1 - od.Discount)) * od.Quantity\n",
    "                                ELSE 0 END\n",
    "                                ) Dairy_rev,\n",
    "                            SUM(CASE WHEN c.CategoryName == 'Confections'\n",
    "                                THEN (od.UnitPrice * (1 - od.Discount)) * od.Quantity\n",
    "                                ELSE 0 END\n",
    "                                ) Conf_rev,\n",
    "                            SUM(CASE WHEN c.CategoryName == 'Meat/Poultry'\n",
    "                                THEN (od.UnitPrice * (1 - od.Discount)) * od.Quantity\n",
    "                                ELSE 0 END\n",
    "                                ) Meat_rev,\n",
    "                            SUM(CASE WHEN c.CategoryName == 'Seafood'\n",
    "                                THEN (od.UnitPrice * (1 - od.Discount)) * od.Quantity\n",
    "                                ELSE 0 END\n",
    "                                ) Sea_rev,\n",
    "                            SUM(CASE WHEN c.CategoryName == 'Condiments'\n",
    "                                THEN (od.UnitPrice * (1 - od.Discount)) * od.Quantity\n",
    "                                ELSE 0 END\n",
    "                                ) Cond_rev,\n",
    "                            SUM(CASE WHEN c.CategoryName == 'Produce'\n",
    "                                THEN (od.UnitPrice * (1 - od.Discount)) * od.Quantity\n",
    "                                ELSE 0 END\n",
    "                                ) Veg_rev,\n",
    "                            SUM(CASE WHEN c.CategoryName == 'Grains/Cereals'\n",
    "                                THEN (od.UnitPrice * (1 - od.Discount)) * od.Quantity\n",
    "                                ELSE 0 END\n",
    "                                ) Grain_rev,\n",
    "                            SUM((od.UnitPrice * (1 - od.Discount)) * od.Quantity) Total\n",
    "                            FROM OrderDetail od\n",
    "                            JOIN [Order] o ON od.OrderId = o.Id\n",
    "                            JOIN Product p ON od.ProductId = p.Id\n",
    "                            JOIN Category c ON p.CategoryId = c.Id\n",
    "                            JOIN Employee e ON o.EmployeeId = e.Id\n",
    "                            GROUP BY od.OrderId\n",
    "                            ORDER BY od.OrderId;''')\n",
    "revenue = pd.DataFrame(cur.fetchall())\n",
    "revenue.columns = [x[0] for x in cur.description]\n",
    "revenue.head()"
   ]
  },
  {
   "cell_type": "code",
   "execution_count": 73,
   "metadata": {},
   "outputs": [
    {
     "data": {
      "text/plain": [
       "(830, 10)"
      ]
     },
     "execution_count": 73,
     "metadata": {},
     "output_type": "execute_result"
    }
   ],
   "source": [
    "revenue.shape"
   ]
  },
  {
   "cell_type": "code",
   "execution_count": 74,
   "metadata": {},
   "outputs": [
    {
     "data": {
      "text/plain": [
       "0     440.00\n",
       "1    1863.40\n",
       "2    1552.60\n",
       "3     654.06\n",
       "4    3597.90\n",
       "Name: Total, dtype: float64"
      ]
     },
     "execution_count": 74,
     "metadata": {},
     "output_type": "execute_result"
    }
   ],
   "source": [
    "# orders containing meat/poultry\n",
    "control3 = revenue[revenue['Meat_rev'] == 0]['Total']\n",
    "control3.head()"
   ]
  },
  {
   "cell_type": "code",
   "execution_count": 75,
   "metadata": {},
   "outputs": [
    {
     "data": {
      "text/plain": [
       "6      556.62\n",
       "8      517.80\n",
       "17    1176.00\n",
       "20    1101.20\n",
       "31     351.00\n",
       "Name: Total, dtype: float64"
      ]
     },
     "execution_count": 75,
     "metadata": {},
     "output_type": "execute_result"
    }
   ],
   "source": [
    "# orders without meat/poultry\n",
    "treatment3 = revenue[revenue['Meat_rev'] != 0]['Total']\n",
    "treatment3.head()"
   ]
  },
  {
   "cell_type": "code",
   "execution_count": 115,
   "metadata": {},
   "outputs": [
    {
     "name": "stdout",
     "output_type": "stream",
     "text": [
      "count      669.000000\n",
      "mean      1385.626012\n",
      "std       1741.631075\n",
      "min         12.500000\n",
      "25%        424.000000\n",
      "50%        851.200000\n",
      "75%       1755.000000\n",
      "max      16387.500000\n",
      "Name: Total, dtype: float64\n"
     ]
    }
   ],
   "source": [
    "print(control3.describe())"
   ]
  },
  {
   "cell_type": "code",
   "execution_count": 116,
   "metadata": {},
   "outputs": [
    {
     "name": "stdout",
     "output_type": "stream",
     "text": [
      "count      161.000000\n",
      "mean      2104.405202\n",
      "std       2134.842015\n",
      "min         80.100000\n",
      "25%        816.300000\n",
      "50%       1549.600000\n",
      "75%       2633.900000\n",
      "max      12615.050000\n",
      "Name: Total, dtype: float64\n"
     ]
    }
   ],
   "source": [
    "print(treatment3.describe())"
   ]
  },
  {
   "cell_type": "markdown",
   "metadata": {},
   "source": [
    "We now have our data separated, and we can see that we have 669 entries for the control and 161 entries for the treatment. Both suffciently large enough to continue. "
   ]
  },
  {
   "cell_type": "code",
   "execution_count": 122,
   "metadata": {},
   "outputs": [
    {
     "name": "stderr",
     "output_type": "stream",
     "text": [
      "/anaconda3/envs/learn-env/lib/python3.6/site-packages/scipy/stats/stats.py:1713: FutureWarning: Using a non-tuple sequence for multidimensional indexing is deprecated; use `arr[tuple(seq)]` instead of `arr[seq]`. In the future this will be interpreted as an array index, `arr[np.array(seq)]`, which will result either in an error or a different result.\n",
      "  return np.add.reduce(sorted[indexer] * weights, axis=axis) / sumval\n"
     ]
    },
    {
     "data": {
      "text/plain": [
       "<matplotlib.legend.Legend at 0x1c184e7cc0>"
      ]
     },
     "execution_count": 122,
     "metadata": {},
     "output_type": "execute_result"
    },
    {
     "data": {
      "image/png": "[encoded data removed]",
      "text/plain": [
       "<Figure size 864x648 with 1 Axes>"
      ]
     },
     "metadata": {
      "needs_background": "light"
     },
     "output_type": "display_data"
    }
   ],
   "source": [
    "# distribution for control & treatment\n",
    "plt.figure(figsize=(12,9))\n",
    "sns.distplot(control3, label=\"Revenue from orders containing meat/poultry\", color=\"red\")\n",
    "sns.distplot(treatment3, label=\"Revenue from orders without meat/poultry \", color=\"grey\")\n",
    "plt.axvline(control3.mean(), label=\"Mean: \"+str(round(control3.mean(), 2)), color=\"red\", linestyle='--')\n",
    "plt.axvline(treatment3.mean(), label=\"Mean: \" +str(round(treatment3.mean(), 2)), color=\"grey\", linestyle='--')\n",
    "plt.title(\"Revenue From orders with meat/poultry and without\")\n",
    "plt.xlabel(\"Revenue\")\n",
    "plt.ylabel(\"Frequency\")\n",
    "plt.legend()"
   ]
  },
  {
   "cell_type": "code",
   "execution_count": 123,
   "metadata": {},
   "outputs": [
    {
     "data": {
      "text/plain": [
       "KstestResult(statistic=1.0, pvalue=0.0)"
      ]
     },
     "execution_count": 123,
     "metadata": {},
     "output_type": "execute_result"
    }
   ],
   "source": [
    "# Kolmogorov-Smirnov Test for normality\n",
    "(stats.kstest(control3, 'norm'))"
   ]
  },
  {
   "cell_type": "code",
   "execution_count": 124,
   "metadata": {},
   "outputs": [
    {
     "data": {
      "text/plain": [
       "KstestResult(statistic=1.0, pvalue=0.0)"
      ]
     },
     "execution_count": 124,
     "metadata": {},
     "output_type": "execute_result"
    }
   ],
   "source": [
    "(stats.kstest(treatment3, 'norm'))"
   ]
  },
  {
   "cell_type": "markdown",
   "metadata": {},
   "source": [
    "The p-values for both of our samples are below 0.05, meaning we can reject the null hypothesis and conclude that our samples' distributions are no identical to a normal distribution. We can also visually confirm using the histogram above. However, since we are working with such a large sample size (n > 150), we can still move on to check variance and perform a T-test. "
   ]
  },
  {
   "cell_type": "code",
   "execution_count": 125,
   "metadata": {},
   "outputs": [
    {
     "name": "stdout",
     "output_type": "stream",
     "text": [
      "Input samples are not from populations with equal variances.\n"
     ]
    }
   ],
   "source": [
    "# Levene Test (check for variance)\n",
    "if stats.levene(control3,treatment3)[1]<0.05:\n",
    "    print('Input samples are not from populations with equal variances.')\n",
    "else:\n",
    "    print('Input samples are from populations with equal variances.')"
   ]
  },
  {
   "cell_type": "markdown",
   "metadata": {},
   "source": [
    "Because our two populations *do not have equal variances*, we shall proceed our hypothesis testing using Welch's Test (Two-Sample and One-Tailed)"
   ]
  },
  {
   "cell_type": "code",
   "execution_count": 126,
   "metadata": {},
   "outputs": [
    {
     "name": "stdout",
     "output_type": "stream",
     "text": [
      "T-statistic: 3.9662667148149002\n",
      "Degrees of Freedom: 214.04378343974287\n",
      "P-value: 4.9785478635322455e-05\n",
      "Decision: Reject Null Hypothesis\n"
     ]
    }
   ],
   "source": [
    "welch_t(control3, treatment3)"
   ]
  },
  {
   "cell_type": "code",
   "execution_count": 141,
   "metadata": {},
   "outputs": [
    {
     "name": "stdout",
     "output_type": "stream",
     "text": [
      "Effect size: -0.3939506386151902\n"
     ]
    }
   ],
   "source": [
    "# effect size using Cohen's D\n",
    "effect_size3 = Cohen_d(control3, treatment3)\n",
    "print(\"Effect size:\", effect_size3)\n",
    "\n",
    "# small = 0.2\n",
    "# medium = 0.5\n",
    "# large = 0.8"
   ]
  },
  {
   "cell_type": "code",
   "execution_count": 130,
   "metadata": {},
   "outputs": [
    {
     "data": {
      "text/plain": [
       "0.9251699739935925"
      ]
     },
     "execution_count": 130,
     "metadata": {},
     "output_type": "execute_result"
    }
   ],
   "source": [
    "# check power \n",
    "power_analysis = TTestIndPower()\n",
    "power_analysis.solve_power(effect_size=effect_size3, nobs1=150, alpha=.05)"
   ]
  },
  {
   "cell_type": "markdown",
   "metadata": {},
   "source": [
    "**Results**: With a p-value below our alpha of 0.05 and a power of greater than 0.8, we can *reject the null hypothesis and accept the alternative hypotheis*. It appears that orders without meat/poultry do generate more revenue than orders with. The small effect size, does mean that the effect may not be very pronounced. Should be further explored.<br>\n",
    "That being said, despite generating more revenue per order, there were about 3 times as many orders with meat/poultry than without. With our new insights, it may be time to shift marketing strategies to acquire more customers how do not order meat/poultry with their orders. This may be a potential way to boost revenues overall for the company."
   ]
  },
  {
   "cell_type": "markdown",
   "metadata": {},
   "source": [
    "<h2> 4. Does shipping from the same region as the supplier have an effect on freight? </h2>"
   ]
  },
  {
   "cell_type": "markdown",
   "metadata": {},
   "source": [
    "Checking on operations is a great way to find inefficiencies to decrease costs and increase profits. Optomizing shipping from our suppliers seemes like a great place to explore and find ways to make more efficient. "
   ]
  },
  {
   "cell_type": "markdown",
   "metadata": {},
   "source": [
    "> **Control** : Freight costs when shipping not from the same region as supplier\n",
    ">\n",
    "> **Treatment** : Freight costs when shipping from the same region as supplier\n",
    ">\n",
    ">>$H_{0}:$ Freight costs will be the same for all orders. $\\mu_0  = \\mu_1 $\n",
    ">\n",
    ">> $H_{1}:$ Freight costs will not be the same for orders when shipped from the same region as the supplier. $\\mu_0 \\neq \\mu_1 $\n",
    ">\n",
    "> Significance Level: $\\alpha = 0.05$ (Probability of a Type I error)"
   ]
  },
  {
   "cell_type": "code",
   "execution_count": 87,
   "metadata": {},
   "outputs": [
    {
     "name": "stdout",
     "output_type": "stream",
     "text": [
      "<class 'pandas.core.frame.DataFrame'>\n",
      "RangeIndex: 2155 entries, 0 to 2154\n",
      "Data columns (total 3 columns):\n",
      "Region        2155 non-null object\n",
      "ShipRegion    2155 non-null object\n",
      "Freight       2155 non-null float64\n",
      "dtypes: float64(1), object(2)\n",
      "memory usage: 50.6+ KB\n"
     ]
    }
   ],
   "source": [
    "cur.execute('''SELECT Supplier.Region, o.ShipRegion, o.freight\n",
    "                            FROM [Order] AS o\n",
    "                          JOIN OrderDetail ON o.ID == OrderDetail.OrderID\n",
    "                          JOIN Product ON OrderDetail.ProductID == Product.ID\n",
    "                          JOIN Supplier ON Supplier.ID == Product.SupplierID;''')\n",
    "freight = pd.DataFrame(cur.fetchall())\n",
    "freight.columns = [x[0] for x in cur.description]\n",
    "freight.info()"
   ]
  },
  {
   "cell_type": "code",
   "execution_count": 89,
   "metadata": {},
   "outputs": [
    {
     "data": {
      "text/plain": [
       "count    1856.000000\n",
       "mean       92.745113\n",
       "std       127.982115\n",
       "min         0.020000\n",
       "25%        18.635000\n",
       "50%        52.920000\n",
       "75%       112.490000\n",
       "max      1007.640000\n",
       "Name: Freight, dtype: float64"
      ]
     },
     "execution_count": 89,
     "metadata": {},
     "output_type": "execute_result"
    }
   ],
   "source": [
    "# control (shipping not from same region)\n",
    "control4 = freight[freight['Region'] != freight['ShipRegion']]['Freight']\n",
    "control4.describe()"
   ]
  },
  {
   "cell_type": "code",
   "execution_count": 88,
   "metadata": {},
   "outputs": [
    {
     "data": {
      "text/plain": [
       "count     299.000000\n",
       "mean      117.629331\n",
       "std       159.332480\n",
       "min         0.150000\n",
       "25%        23.290000\n",
       "50%        64.560000\n",
       "75%       147.060000\n",
       "max      1007.640000\n",
       "Name: Freight, dtype: float64"
      ]
     },
     "execution_count": 88,
     "metadata": {},
     "output_type": "execute_result"
    }
   ],
   "source": [
    "# treatment (shipping from same region)\n",
    "treatment4 = freight[freight['Region'] == freight['ShipRegion']]['Freight']\n",
    "treatment4.describe()"
   ]
  },
  {
   "cell_type": "code",
   "execution_count": 134,
   "metadata": {},
   "outputs": [
    {
     "name": "stderr",
     "output_type": "stream",
     "text": [
      "/anaconda3/envs/learn-env/lib/python3.6/site-packages/scipy/stats/stats.py:1713: FutureWarning: Using a non-tuple sequence for multidimensional indexing is deprecated; use `arr[tuple(seq)]` instead of `arr[seq]`. In the future this will be interpreted as an array index, `arr[np.array(seq)]`, which will result either in an error or a different result.\n",
      "  return np.add.reduce(sorted[indexer] * weights, axis=axis) / sumval\n"
     ]
    },
    {
     "data": {
      "text/plain": [
       "<matplotlib.legend.Legend at 0x1c185813c8>"
      ]
     },
     "execution_count": 134,
     "metadata": {},
     "output_type": "execute_result"
    },
    {
     "data": {
      "image/png": "[encoded data removed]",
      "text/plain": [
       "<Figure size 864x648 with 1 Axes>"
      ]
     },
     "metadata": {
      "needs_background": "light"
     },
     "output_type": "display_data"
    }
   ],
   "source": [
    "# distribution for control & treatment\n",
    "plt.figure(figsize=(12,9))\n",
    "sns.distplot(control4, label=\"Freight costs when shipping NOT from same region as supplier\", color=\"yellow\")\n",
    "sns.distplot(treatment4, label=\"Freight costs when shipping from same region as supplier\", color=\"green\")\n",
    "plt.axvline(control4.mean(), label=\"Mean: \"+str(round(control4.mean(), 2)), color=\"yellow\", linestyle='--')\n",
    "plt.axvline(treatment4.mean(), label=\"Mean: \" +str(round(treatment4.mean(), 2)), color=\"green\", linestyle='--')\n",
    "plt.title(\"Freight Costs When Shipping From Same Region as Supplier vs. Not From Same Region as Supplier\")\n",
    "plt.xlabel(\"Freight Cost\")\n",
    "plt.ylabel(\"Frequency\")\n",
    "plt.legend()"
   ]
  },
  {
   "cell_type": "code",
   "execution_count": 136,
   "metadata": {},
   "outputs": [
    {
     "data": {
      "text/plain": [
       "KstestResult(statistic=0.9448088882659249, pvalue=0.0)"
      ]
     },
     "execution_count": 136,
     "metadata": {},
     "output_type": "execute_result"
    }
   ],
   "source": [
    "# Kolmogorov-Smirnov Test for normality\n",
    "(stats.kstest(control4, 'norm'))"
   ]
  },
  {
   "cell_type": "code",
   "execution_count": 135,
   "metadata": {},
   "outputs": [
    {
     "data": {
      "text/plain": [
       "KstestResult(statistic=0.9583280255240479, pvalue=0.0)"
      ]
     },
     "execution_count": 135,
     "metadata": {},
     "output_type": "execute_result"
    }
   ],
   "source": [
    "# Kolmogorov-Smirnov Test for normality\n",
    "(stats.kstest(treatment4, 'norm'))"
   ]
  },
  {
   "cell_type": "markdown",
   "metadata": {},
   "source": [
    "The p-values for both of our samples are below 0.05, meaning we can reject the null hypothesis and conclude that our samples' distributions are no identical to a normal distribution. We can also visually confirm using the histogram above. However, since we are working with such a large sample size (n > 200), we can still move on to check variance and perform a T-test. "
   ]
  },
  {
   "cell_type": "code",
   "execution_count": 137,
   "metadata": {},
   "outputs": [
    {
     "name": "stdout",
     "output_type": "stream",
     "text": [
      "Input samples are not from populations with equal variances.\n"
     ]
    }
   ],
   "source": [
    "# Levene Test (check for variance)\n",
    "if stats.levene(control4,treatment4)[1]<0.05:\n",
    "    print('Input samples are not from populations with equal variances.')\n",
    "else:\n",
    "    print('Input samples are from populations with equal variances.')"
   ]
  },
  {
   "cell_type": "markdown",
   "metadata": {},
   "source": [
    "Because our two populations *do not have equal variances*, we shall proceed our hypothesis testing using Welch's Test (Two-Sample and Two-Tailed)"
   ]
  },
  {
   "cell_type": "code",
   "execution_count": 138,
   "metadata": {
    "scrolled": true
   },
   "outputs": [
    {
     "name": "stdout",
     "output_type": "stream",
     "text": [
      "T-statistic: 2.570292317793137\n",
      "Degrees of Freedom: 362.538552340464\n",
      "P-value: 0.010559865355354914\n",
      "Decision: Reject Null Hypothesis\n"
     ]
    }
   ],
   "source": [
    "welch_t(control4, treatment4, two_sided=True)"
   ]
  },
  {
   "cell_type": "code",
   "execution_count": 140,
   "metadata": {},
   "outputs": [
    {
     "name": "stdout",
     "output_type": "stream",
     "text": [
      "Effect size: -0.18741657844925197\n"
     ]
    }
   ],
   "source": [
    "# effect size using Cohen's D\n",
    "effect_size4 = Cohen_d(control4, treatment4)\n",
    "print(\"Effect size:\", effect_size4)\n",
    "\n",
    "# small = 0.2\n",
    "# medium = 0.5\n",
    "# large = 0.8"
   ]
  },
  {
   "cell_type": "code",
   "execution_count": 143,
   "metadata": {},
   "outputs": [
    {
     "data": {
      "text/plain": [
       "0.4640801554626206"
      ]
     },
     "execution_count": 143,
     "metadata": {},
     "output_type": "execute_result"
    }
   ],
   "source": [
    "# check power \n",
    "power_analysis = TTestIndPower()\n",
    "power_analysis.solve_power(effect_size=effect_size4, nobs1=200, alpha=.05)"
   ]
  },
  {
   "cell_type": "markdown",
   "metadata": {},
   "source": [
    "**Result**: We did reject the null hypothesis and accepted the alternative that freight costs are not the same when shipped from the same region. However the low effect size indicates that while our results are statistically significant, the difference may be trivial. Additionally we had a power of less than 0.8, indicating that we may have too small a sample size. Regardless there is enough evidence to further investigate the freight cost based on regions. "
   ]
  }
 ],
 "metadata": {
  "kernelspec": {
   "display_name": "Python 3",
   "language": "python",
   "name": "python3"
  },
  "language_info": {
   "codemirror_mode": {
    "name": "ipython",
    "version": 3
   },
   "file_extension": ".py",
   "mimetype": "text/x-python",
   "name": "python",
   "nbconvert_exporter": "python",
   "pygments_lexer": "ipython3",
   "version": "3.6.6"
  }
 },
 "nbformat": 4,
 "nbformat_minor": 2
}
